{
  "cells": [
    {
      "cell_type": "markdown",
      "metadata": {
        "id": "seVmW81BGDwS"
      },
      "source": [
        "![Notebooks.png](data:image/png;base64,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)\n",
        "\n",
        "# YOLOv8 Śledzenie i zliczanie obiektów\n",
        "[![](https://badges.aleen42.com/src/github.svg)](https://github.com/knmlprz/)\n",
        "[![](https://badges.aleen42.com/src/discord.svg)](https://discord.com/invite/ZYJdXXgE6H)\n",
        "[![](https://badges.aleen42.com/src/telegram.svg)](https://t.me/s/knmlprz)\n",
        "\n",
        "\n",
        "## W tym notebooku dowiesz się jak\n",
        "\n",
        "- Zainstalować YOLOv8\n",
        "- Zainstalować Roboflow Supervision\n",
        "- Jak zamienić film na serię klatek\n",
        "- Jak uruchomić na nich model i tracker YOLOv8\n",
        "- Jak narysować na klatce to co zwrócił model i tracker\n"
      ]
    },
    {
      "attachments": {},
      "cell_type": "markdown",
      "metadata": {
        "id": "H-TuOzekHirr"
      },
      "source": [
        "### Zanim zaczniemy\n",
        "\n",
        "Upewnijmy się, że mamy dostęp do GPU. Przyda się podczas trenowania modelu. \n",
        "\n",
        "> Jeżeli otrzymujesz komunikat: \"NVIDIA-SMI has failed because it couldn't communicate with the NVIDIA driver. Make sure that the latest NVIDIA driver is installed and running.\" Kliknij w ikonkę: ![image.png](data:image/png;base64,iVBORw0KGgoAAAANSUhEUgAAAGMAAAAoCAYAAADqpEQ6AAAABHNCSVQICAgIfAhkiAAAABl0RVh0U29mdHdhcmUAZ25vbWUtc2NyZWVuc2hvdO8Dvz4AAAAtdEVYdENyZWF0aW9uIFRpbWUAU2F0IDI1IE1hciAyMDIzIDA3OjU2OjI3IFBNIENFVI+QrFMAAAaKSURBVGiB7ZtvTJTJHcc/z7NQFjGgcke0JyuI6Ho0tIGYQqIJ3l4sLi8U1Ea0ECIxQYNRsI21x0VrqDXauDEQw5tG3ShemnreXckWjCvGaAjx/91BortR3OUO2BpsiGVh/zzTF9JtNwuKsjzs0f28mX3mmfnNd59vZubZmVlJCCGIEhHE2Gy2mdYQZQwp2jMiB3mmBUT5L1EzIoiYmRYQToaGhnC5XIRr5JUkiZSUFBITE8MS703MKjNcLhdLliwhNjY2LPG8Xi/Pnj1TzYxZNUwJIcJmBEBsbGzYetlkmHYzTCYTJSUllJeXU1ZWxtGjR3G73UFldu3axYULF0Lqbd68GZ/PF5Tf3t6OwWDAbrdPt3TVUaVnbN++HbPZzLlz55Blmebm5sC9np4eRkZGuHr1aki94eFhOjo6gvIsFgtarXbaNc8Eqg5TsiyTl5fH06dPA3ltbW1s2LCB5ORkurq6gsqvXr0ai8USuO7v78flcpGenq6aZjVR1QyPx8P169dZsWIFAIqi0N7eTkFBAQaDgStXrgSVz87Opre3F5fLBbzqFUajEa/Xq6Zs1VDFjObmZioqKiguLkar1VJaWgrA7du3SUtLY968eaxZs4abN2/i8XgC9Xw+H4WFhbS2tqIoClarlXXr1s1aM1R5td22bRubNm2ipaWFzs5OYmJeNdvW1saTJ0+oqKgAYHR0lFu3brF27VoA/H4/hYWF7N27l4yMDJYvX878+fNRFEUN2aozJTNe+F4yP2bupMsbjUYuXbrEw4cPycjI4P79+1y8eDEwId+4cQOLxRIwAyA5OZmlS5fS0NDA/v37pyI34nlnMxr7LXzibOZGVj0/nZM2qTqyLLNz506amppYv349q1atCnozys/Px2Qy8fz586B6RqMRu91Obm7uG9v46sVtvMKPXyhoJBkhBLIkoYylAoiVNChCQZbk16YAWSyY9DOZKu+0atvYb2FPz58pSMyideWnxEnh+6E1Fex2O+0JTxgSbiRJRoIxUyT8QqCRJLzCjyzJeIQPWcgokoKEhECEpClyIgUv01m2bJkq+t+6Z0SqEQApKSmsdRH2tSm1eKueEclGRBp+v5+GhgYcDse493U6HXv27EGj0QTyJm3Gn77/kt84zFEj3oLBwUFqa2txOp1B+ampqZw8eZIFC4Lno4AZx77/nFHFx6HFvwwJGjXi3RkcHKS6upqBgQFgYiNgzAyv8JHz9a/51u2kPrWUTz7YHCjwh+/+Sp3zIh8nZfO3FQfRyj9S7Yu8LZG6n9Hf309tbS0AjY2N4xoBgBjjhe+lyH5YI+goESe++0IIIcQh52eCjhJR0PWpGFE8ItKx2WzC4wmfTo/HI2w2W1hi9fX1ib6+vteW4X8v/un7l/j5NwcEHSXC0HVI0FEiPu4+LNz+0SmLuXbtmjAajaKsrEyUlpaKU6dOCbfbLYQQwul0it27d7+2fk1NjXjw4MFryzx+/HjKOtWIORFBa1NJmjlYPzxM3tzlWIe+oSAxixb978I2NOXm5mI2mzl//jzx8fEcO3YMgMWLFwc+/z8TslCYIGuxfniY3/64mL/r66ZlspZlmR07dtDd3c3AwAAOh4N9+/YBr8b9AwcOUF5eTlVVFY8ePQqqOzw8TFVVFVarNey6ZppxV23nyHH8UferaZ2sNRoNOp0u5D28paWFtLQ0zGYzlZWVQfsZHo+Huro6DAYDBoNh3LhD/uFp0zzdzOge+Hirrzk5OXR2dnL27FkSEhKoqakJ3Dt9+jQAW7ZsmTCmqa+FnlFX+MWqwIydDvF6vTgcDlJTU4P2MPR6PQ0NDdy5c4czZ86g1+uprKwEIDMzk+7ubu7du0dOTs64cTctyOP3vX9BH/8Bv0j6Gbq495AkCSFEaDrBmtR/UrWZETN8Ph9NTU1kZWWxcOHCoKGqsbGR9PR0ioqKWLRoESaTKWBGUVERxcXFHDlyhKamJpKSkkJi/2SOjjMZ1Zz9xzUO9X7Gt24H8VIcbjEaSOfK8bxU3GjlOEaUUWKkGHzCF5ICtCbUqvNQUNmMu3fvUlZWhtfrJT8/n4MHD4aU2bp1K8ePH+fy5cv4/X6qq6uD7q9cuZKNGzdy4sQJ6uvrJ2yr4v2PqHj/oylrVvNg+Kw6+Gyz2cjMzIz4mBMxqw6xSZIU1v1xr9eLJElhi/cmZlXPiNS1qUm3N5vM+KEzq4apHzpRMyKI6H/6IojonBFBRIepCOLfktR3sxH+e1AAAAAASUVORK5CYII=) następnie wybierz `Change runtyme type` -> `Hardware accelerator` i zaznacz `GPU`.\n",
        "\n"
      ]
    },
    {
      "cell_type": "code",
      "execution_count": null,
      "metadata": {
        "colab": {
          "base_uri": "https://localhost:8080/"
        },
        "id": "n2vQc0CMGA_N",
        "outputId": "9e22f469-b901-4448-a3d2-bdd2eb88527b"
      },
      "outputs": [],
      "source": [
        "!nvidia-smi"
      ]
    },
    {
      "cell_type": "code",
      "execution_count": null,
      "metadata": {
        "colab": {
          "base_uri": "https://localhost:8080/"
        },
        "id": "kveoOn6xKSGN",
        "outputId": "20fd1302-2427-46a1-bbc9-821c2d7c8239"
      },
      "outputs": [],
      "source": [
        "import os\n",
        "HOME = os.getcwd()\n",
        "print(HOME)"
      ]
    },
    {
      "cell_type": "markdown",
      "metadata": {
        "id": "z_dOAnm7KVT8"
      },
      "source": [
        "### Pobieranie plików video\n",
        "\n",
        "Będziemy potrzebować dwóch plików:\n",
        "\n",
        "- [rynek.mp4](https://drive.google.com/file/d/1xd_oTBlJR7LU5K3Sp8j7q8FFGZMN7v7_/view?usp=share_link)\n",
        "- [politechinka.mp4](https://drive.google.com/file/d/1ccXc4UE-SRww334HdUdqQEwQ53Jq-7-i/view?usp=share_link)"
      ]
    },
    {
      "cell_type": "code",
      "execution_count": null,
      "metadata": {
        "colab": {
          "base_uri": "https://localhost:8080/"
        },
        "id": "Zg0f5qBwLgaS",
        "outputId": "980a4bc5-afc0-452a-a657-7f9f5d8dc8f3"
      },
      "outputs": [],
      "source": [
        "!pip install gdown"
      ]
    },
    {
      "cell_type": "code",
      "execution_count": null,
      "metadata": {
        "colab": {
          "base_uri": "https://localhost:8080/",
          "height": 192
        },
        "id": "6S-g19wlLGUd",
        "outputId": "cb51eb9f-e974-4a98-e21a-e12736eb7073"
      },
      "outputs": [],
      "source": [
        "%cd $HOME\n",
        "import gdown\n",
        "\n",
        "gdown.download(\"https://drive.google.com/file/d/1xd_oTBlJR7LU5K3Sp8j7q8FFGZMN7v7_/view?usp=share_link\", \n",
        "               \"rynek.mp4\", quiet=False, fuzzy=True)\n",
        "gdown.download(\"https://drive.google.com/file/d/1ccXc4UE-SRww334HdUdqQEwQ53Jq-7-i/view?usp=share_link\", \n",
        "               \"politechnika.mp4\", quiet=False, fuzzy=True)"
      ]
    },
    {
      "cell_type": "code",
      "execution_count": null,
      "metadata": {
        "id": "J2_Ddt0sMSdu"
      },
      "outputs": [],
      "source": [
        "RYNEK_VIDEO_PATH = f\"{HOME}/rynek.mp4\"\n",
        "POLITECHNIKA_VIDEO_PATH = f\"{HOME}/politechnika.mp4\""
      ]
    },
    {
      "cell_type": "markdown",
      "metadata": {
        "id": "GDmxKx4jMxRp"
      },
      "source": [
        "### Instalacja YOLOv8"
      ]
    },
    {
      "cell_type": "code",
      "execution_count": null,
      "metadata": {
        "colab": {
          "base_uri": "https://localhost:8080/"
        },
        "id": "YqGAuJIxM1hA",
        "outputId": "87504b39-375b-4f12-d1ff-17c6a2c200db"
      },
      "outputs": [],
      "source": [
        "!pip install ultralytics==8.0.57\n",
        "!pip install lap==0.4.0\n",
        "\n",
        "from IPython import display\n",
        "display.clear_output()\n",
        "\n",
        "import ultralytics\n",
        "ultralytics.checks()"
      ]
    },
    {
      "cell_type": "markdown",
      "metadata": {
        "id": "hyeKa-SJyIEW"
      },
      "source": [
        "### Instalacja supervision"
      ]
    },
    {
      "cell_type": "code",
      "execution_count": null,
      "metadata": {
        "colab": {
          "base_uri": "https://localhost:8080/"
        },
        "id": "3ums25BPyKUX",
        "outputId": "d32e5683-b9e0-444f-be04-b0cab5418c4a"
      },
      "outputs": [],
      "source": [
        "!pip install supervision==0.3.2"
      ]
    },
    {
      "cell_type": "markdown",
      "metadata": {
        "id": "2HHcaxGpyBRL"
      },
      "source": [
        "### Importowanie bibliotek "
      ]
    },
    {
      "cell_type": "code",
      "execution_count": null,
      "metadata": {
        "id": "745sn1x_yEbA"
      },
      "outputs": [],
      "source": [
        "# Opencv\n",
        "import cv2\n",
        "from ultralytics import YOLO\n",
        "import supervision as sv"
      ]
    },
    {
      "cell_type": "markdown",
      "metadata": {
        "id": "xVKCuUxiyncd"
      },
      "source": [
        "### Wczytywanie klatek"
      ]
    },
    {
      "cell_type": "code",
      "execution_count": null,
      "metadata": {
        "colab": {
          "base_uri": "https://localhost:8080/"
        },
        "id": "zRAxRuTQym8K",
        "outputId": "a1032a1d-df21-44b4-f79c-716314bec882"
      },
      "outputs": [],
      "source": [
        "sv.VideoInfo.from_video_path(video_path=RYNEK_VIDEO_PATH)"
      ]
    },
    {
      "cell_type": "code",
      "execution_count": null,
      "metadata": {
        "colab": {
          "base_uri": "https://localhost:8080/"
        },
        "id": "aiT-WgRN0PkI",
        "outputId": "8675696f-a989-4dde-dc0f-9c406c8d2227"
      },
      "outputs": [],
      "source": [
        "sv.VideoInfo.from_video_path(video_path=POLITECHNIKA_VIDEO_PATH)"
      ]
    },
    {
      "cell_type": "code",
      "execution_count": null,
      "metadata": {
        "colab": {
          "base_uri": "https://localhost:8080/",
          "height": 557
        },
        "id": "NTfIPz8xzybQ",
        "outputId": "fdb99ac2-5384-4811-ccd9-ebe96ddc4d93"
      },
      "outputs": [],
      "source": [
        "%matplotlib inline\n",
        "for frame in sv.get_video_frames_generator(source_path=POLITECHNIKA_VIDEO_PATH):\n",
        "  sv.show_frame_in_notebook(frame, (16, 16))\n",
        "  break"
      ]
    },
    {
      "cell_type": "markdown",
      "metadata": {
        "id": "7NAaj0n610GH"
      },
      "source": [
        "### Rysowanie na klatce"
      ]
    },
    {
      "cell_type": "code",
      "execution_count": null,
      "metadata": {},
      "outputs": [],
      "source": []
    },
    {
      "cell_type": "code",
      "execution_count": null,
      "metadata": {},
      "outputs": [],
      "source": []
    },
    {
      "cell_type": "markdown",
      "metadata": {
        "id": "eG9lKsUU_K6l"
      },
      "source": [
        "## YOLOv8\n"
      ]
    },
    {
      "cell_type": "code",
      "execution_count": null,
      "metadata": {
        "id": "-M7pFnsV913g"
      },
      "outputs": [],
      "source": [
        "# Dostępne są modele:\n",
        "# yolov8n.pt <- najmniejszy \n",
        "# yolov8s.pt\n",
        "# yolov8m.pt\n",
        "# yolov8l.pt\n",
        "# yolov8x.pt <- największy\n",
        "\n",
        "model = YOLO(\"yolov8m.pt\")"
      ]
    },
    {
      "cell_type": "markdown",
      "metadata": {
        "id": "Awk0_D6dAtwO"
      },
      "source": [
        "### YOLO detect\n",
        "\n",
        "https://docs.ultralytics.com/usage/cfg/"
      ]
    },
    {
      "cell_type": "code",
      "execution_count": null,
      "metadata": {
        "colab": {
          "base_uri": "https://localhost:8080/",
          "height": 609
        },
        "id": "Rqm5KaYOBTAZ",
        "outputId": "86b2d32d-110d-4bbf-9c2d-5c477874c65c"
      },
      "outputs": [],
      "source": [
        "model = YOLO(\"yolov8m.pt\")\n",
        "box_annotator = sv.BoxAnnotator(\n",
        "    thickness=2,\n",
        "    text_thickness=1,\n",
        "    text_scale=0.5\n",
        ")\n",
        "\n",
        "for frame in sv.get_video_frames_generator(source_path=POLITECHNIKA_VIDEO_PATH):\n",
        "  result = model(frame)[0]\n",
        "\n",
        "  detections = sv.Detections.from_yolov8(result)\n",
        "  frame = box_annotator.annotate(\n",
        "      scene=frame,\n",
        "      detections=detections\n",
        "  )\n",
        "\n",
        "  sv.show_frame_in_notebook(frame, (16, 16))\n",
        "  break"
      ]
    },
    {
      "cell_type": "markdown",
      "metadata": {
        "id": "ula9rLusI1gR"
      },
      "source": [
        "## YOLOv8 Native tracking"
      ]
    },
    {
      "cell_type": "code",
      "execution_count": null,
      "metadata": {},
      "outputs": [],
      "source": []
    },
    {
      "cell_type": "code",
      "execution_count": null,
      "metadata": {},
      "outputs": [],
      "source": []
    },
    {
      "cell_type": "markdown",
      "metadata": {
        "id": "DMvR-ztGS97D"
      },
      "source": [
        "Obiekt sv.Detections jest nakładką na to co zwraca model YOLO. Domyślnie obiekt ten nie posiada `tracker_id`. \n",
        "\n",
        "**Czym jest `tracker_id`?**\n",
        "\n",
        "Jest identyfikatorem przypisanym do każdego wykrytego obiektu, który jest wykorzystywany do śledzenia tego obiektu w kolejnych ramkach wideo.\n",
        "\n",
        "Jak wydobyć go z obiektu `results`?\n",
        "\n",
        "https://docs.ultralytics.com/reference/results/#ultralytics.yolo.engine.results.Boxes"
      ]
    },
    {
      "cell_type": "code",
      "execution_count": null,
      "metadata": {
        "colab": {
          "base_uri": "https://localhost:8080/"
        },
        "id": "kl9pTIOMSPdI",
        "outputId": "f66dec35-b191-45c6-85df-8cc56b4dbce6"
      },
      "outputs": [],
      "source": [
        "help(sv.Detections)"
      ]
    },
    {
      "cell_type": "code",
      "execution_count": null,
      "metadata": {
        "colab": {
          "base_uri": "https://localhost:8080/"
        },
        "id": "Ea9Uto_kT0Ib",
        "outputId": "902f2f07-27ea-49bf-a8a8-6cc1348ca809"
      },
      "outputs": [],
      "source": [
        "result.boxes"
      ]
    },
    {
      "cell_type": "code",
      "execution_count": null,
      "metadata": {
        "colab": {
          "base_uri": "https://localhost:8080/"
        },
        "id": "M6XGguFAUpK8",
        "outputId": "07b64b5f-86d7-40aa-8b4a-8bc3e36e5b48"
      },
      "outputs": [],
      "source": [
        "result.boxes.id"
      ]
    },
    {
      "cell_type": "markdown",
      "metadata": {
        "id": "2Cm9OW16Vgop"
      },
      "source": [
        "#### Wydobywanie tracker_id (śledzenie)"
      ]
    },
    {
      "cell_type": "code",
      "execution_count": null,
      "metadata": {},
      "outputs": [],
      "source": []
    },
    {
      "cell_type": "code",
      "execution_count": null,
      "metadata": {},
      "outputs": [],
      "source": []
    },
    {
      "cell_type": "markdown",
      "metadata": {
        "id": "oNSDcpm9W0lC"
      },
      "source": [
        "### Zliczanie przejeżdżających samochodów"
      ]
    },
    {
      "cell_type": "code",
      "execution_count": null,
      "metadata": {},
      "outputs": [],
      "source": []
    },
    {
      "cell_type": "code",
      "execution_count": null,
      "metadata": {},
      "outputs": [],
      "source": []
    },
    {
      "cell_type": "markdown",
      "metadata": {
        "id": "CmhQ2XUpoNwd"
      },
      "source": [
        "### Rysowanie trasy samochodów"
      ]
    },
    {
      "cell_type": "code",
      "execution_count": null,
      "metadata": {
        "id": "keSBUQcbhLPy"
      },
      "outputs": [],
      "source": [
        "import numpy as np\n",
        "tracker_lines = {}\n",
        "for i, id in enumerate(tracker_id):\n",
        "  if id in tracker_lines.keys():\n",
        "    tracker_lines[id] = np.vstack((tracker_lines[id], xywh[i, 0:2]))\n",
        "  else:\n",
        "    tracker_lines[id] = xywh[i, 0:2]"
      ]
    },
    {
      "cell_type": "code",
      "execution_count": null,
      "metadata": {},
      "outputs": [],
      "source": []
    },
    {
      "cell_type": "code",
      "execution_count": null,
      "metadata": {},
      "outputs": [],
      "source": []
    },
    {
      "cell_type": "markdown",
      "metadata": {
        "id": "8ZMtHfGvqxzs"
      },
      "source": [
        "# Referencje\n",
        "\n",
        "- [YOLOv8 native tracking | Step-by-step tutorial | Tracking with Live Webcam Stream](https://www.youtube.com/watch?v=Mi9iHFd0_Bo&list=PLZCA39VpuaZZ1cjH4vEIdXIb0dCpZs3Y5&index=6) / Roboflow\n",
        "- [Track & Count Objects using YOLOv8 ByteTrack & Supervision](https://www.youtube.com/watch?v=OS5qI9YBkfk) / Roboflow\n",
        "- [Boxes API Reference](https://docs.ultralytics.com/reference/results/#boxes-api-reference)"
      ]
    }
  ],
  "metadata": {
    "accelerator": "GPU",
    "colab": {
      "provenance": [],
      "toc_visible": true
    },
    "gpuClass": "standard",
    "kernelspec": {
      "display_name": "Python 3",
      "name": "python3"
    },
    "language_info": {
      "name": "python"
    }
  },
  "nbformat": 4,
  "nbformat_minor": 0
}
